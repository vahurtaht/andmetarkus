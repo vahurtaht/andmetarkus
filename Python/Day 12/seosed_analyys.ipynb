{
 "cells": [
  {
   "cell_type": "code",
   "execution_count": null,
   "id": "083c4ab6",
   "metadata": {},
   "outputs": [],
   "source": []
  },
  {
   "cell_type": "markdown",
   "id": "e490623a",
   "metadata": {},
   "source": [
    "\n",
    "# Ülesannete loendi (tasklist)näide\n",
    "\n",
    "Andmete allalaadimine REST API kaudu\n",
    "\n",
    "Kirjuta funktsioon, mis laadib lähteandmed REST API-st.\n",
    "Salvesta andmed Pandas DataFrame'i.\n",
    "Andmete valideerimine ja puhastamine\n",
    "\n",
    "Kontrolli, et kõik vajalikud veerud oleksid olemas.\n",
    "Eemalda või täida puuduvad väärtused.\n",
    "Muuda andmetüübid sobivaks (nt arvväärtused).\n",
    "Korrelatsioonianalüüs\n",
    "\n",
    "Arvuta korrelatsioonivalem valitud veergude vahel.\n",
    "Salvesta korrelatsioonikordaja väärtus.\n",
    "Tulemuste esitamine\n",
    "\n",
    "Joonista korrelatsioonijoon (scatter plot + regressioonijoon).\n",
    "Kuvada korrelatsioonikordaja väärtus graafikul.\n",
    "Esita tulemused eesti keeles (pealkirjad, teljed, selgitused).\n",
    "Koodi dokumenteerimine\n",
    "\n",
    "Lisa kommentaarid ja vajadusel docstringid igale funktsioonile."
   ]
  }
 ],
 "metadata": {
  "language_info": {
   "name": "python"
  }
 },
 "nbformat": 4,
 "nbformat_minor": 5
}
